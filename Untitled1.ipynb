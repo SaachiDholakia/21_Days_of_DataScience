{
  "nbformat": 4,
  "nbformat_minor": 0,
  "metadata": {
    "colab": {
      "provenance": [],
      "authorship_tag": "ABX9TyMO4xqjsqGdxa0GlydbxJ8s",
      "include_colab_link": true
    },
    "kernelspec": {
      "name": "python3",
      "display_name": "Python 3"
    },
    "language_info": {
      "name": "python"
    }
  },
  "cells": [
    {
      "cell_type": "markdown",
      "metadata": {
        "id": "view-in-github",
        "colab_type": "text"
      },
      "source": [
        "<a href=\"https://colab.research.google.com/github/SaachiDholakia/21_Days_of_DataScience/blob/main/Untitled1.ipynb\" target=\"_parent\"><img src=\"https://colab.research.google.com/assets/colab-badge.svg\" alt=\"Open In Colab\"/></a>"
      ]
    },
    {
      "cell_type": "markdown",
      "source": [
        "###Importing Files"
      ],
      "metadata": {
        "id": "0eMdX5I3tblV"
      }
    },
    {
      "cell_type": "code",
      "execution_count": null,
      "metadata": {
        "id": "2AFr8l_os2Ws"
      },
      "outputs": [],
      "source": []
    },
    {
      "cell_type": "markdown",
      "source": [
        "###Data Cleaning"
      ],
      "metadata": {
        "id": "1j1Sak1LthYq"
      }
    },
    {
      "cell_type": "code",
      "source": [],
      "metadata": {
        "id": "fAg9HIkvtjh-"
      },
      "execution_count": null,
      "outputs": []
    },
    {
      "cell_type": "markdown",
      "source": [
        "###Data Exploratory Analysis"
      ],
      "metadata": {
        "id": "5w3n-qnQtkIn"
      }
    },
    {
      "cell_type": "code",
      "source": [],
      "metadata": {
        "id": "5F4jkxCatnsV"
      },
      "execution_count": null,
      "outputs": []
    },
    {
      "cell_type": "markdown",
      "source": [
        "###"
      ],
      "metadata": {
        "id": "q4L38-kdto_i"
      }
    },
    {
      "cell_type": "code",
      "source": [],
      "metadata": {
        "id": "DvTNpDjAtoJL"
      },
      "execution_count": null,
      "outputs": []
    }
  ]
}